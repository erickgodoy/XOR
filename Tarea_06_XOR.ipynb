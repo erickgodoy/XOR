{
  "nbformat": 4,
  "nbformat_minor": 0,
  "metadata": {
    "colab": {
      "name": "Tarea 06: XOR.ipynb",
      "provenance": [],
      "collapsed_sections": []
    },
    "kernelspec": {
      "name": "python3",
      "display_name": "Python 3"
    },
    "language_info": {
      "name": "python"
    }
  },
  "cells": [
    {
      "cell_type": "markdown",
      "metadata": {
        "id": "dqWu24XEqvdK"
      },
      "source": [
        "# Solución al Problema XOR con Redes Neuronales\n",
        "**Código de Estudiante:** 171334\n",
        "\n",
        "**Apellidos y Nombres:** Godoy Llanqui Erick Renan\n",
        "\n",
        "**Fecha de Presentación:** 23 / 07 / 2021"
      ]
    },
    {
      "cell_type": "markdown",
      "metadata": {
        "id": "uKq9Va3mwnwo"
      },
      "source": [
        "**Importar Librerias**\n",
        "*   Pandas, para crear un dataset referente al operador XOR\n",
        "*   Numpy, para realizar operaciones con matrices"
      ]
    },
    {
      "cell_type": "code",
      "metadata": {
        "id": "rrndUJA0wqdv"
      },
      "source": [
        "import numpy as np\n",
        "import pandas as pd"
      ],
      "execution_count": 15,
      "outputs": []
    },
    {
      "cell_type": "markdown",
      "metadata": {
        "id": "z3Pv7h7pShl7"
      },
      "source": [
        "**Dataframe XOR**"
      ]
    },
    {
      "cell_type": "code",
      "metadata": {
        "colab": {
          "base_uri": "https://localhost:8080/",
          "height": 166
        },
        "id": "2dEDb6RWFDMh",
        "outputId": "cdc33e99-b0ca-486e-a2e1-5feb47961b50"
      },
      "source": [
        "df = pd.DataFrame(\n",
        "    {\n",
        "        'X1': [0,0,1,1],\n",
        "        'X2': [0,1,0,1],\n",
        "        'Y' : [0,1,1,0]\n",
        "    }\n",
        ")\n",
        "df"
      ],
      "execution_count": 16,
      "outputs": [
        {
          "output_type": "execute_result",
          "data": {
            "text/html": [
              "<div>\n",
              "<style scoped>\n",
              "    .dataframe tbody tr th:only-of-type {\n",
              "        vertical-align: middle;\n",
              "    }\n",
              "\n",
              "    .dataframe tbody tr th {\n",
              "        vertical-align: top;\n",
              "    }\n",
              "\n",
              "    .dataframe thead th {\n",
              "        text-align: right;\n",
              "    }\n",
              "</style>\n",
              "<table border=\"1\" class=\"dataframe\">\n",
              "  <thead>\n",
              "    <tr style=\"text-align: right;\">\n",
              "      <th></th>\n",
              "      <th>X1</th>\n",
              "      <th>X2</th>\n",
              "      <th>Y</th>\n",
              "    </tr>\n",
              "  </thead>\n",
              "  <tbody>\n",
              "    <tr>\n",
              "      <th>0</th>\n",
              "      <td>0</td>\n",
              "      <td>0</td>\n",
              "      <td>0</td>\n",
              "    </tr>\n",
              "    <tr>\n",
              "      <th>1</th>\n",
              "      <td>0</td>\n",
              "      <td>1</td>\n",
              "      <td>1</td>\n",
              "    </tr>\n",
              "    <tr>\n",
              "      <th>2</th>\n",
              "      <td>1</td>\n",
              "      <td>0</td>\n",
              "      <td>1</td>\n",
              "    </tr>\n",
              "    <tr>\n",
              "      <th>3</th>\n",
              "      <td>1</td>\n",
              "      <td>1</td>\n",
              "      <td>0</td>\n",
              "    </tr>\n",
              "  </tbody>\n",
              "</table>\n",
              "</div>"
            ],
            "text/plain": [
              "   X1  X2  Y\n",
              "0   0   0  0\n",
              "1   0   1  1\n",
              "2   1   0  1\n",
              "3   1   1  0"
            ]
          },
          "metadata": {
            "tags": []
          },
          "execution_count": 16
        }
      ]
    },
    {
      "cell_type": "markdown",
      "metadata": {
        "id": "9B1ayTHoSpKD"
      },
      "source": [
        "**Separar columnas de entrada y salida**"
      ]
    },
    {
      "cell_type": "code",
      "metadata": {
        "id": "5PcDXO_aFJtn"
      },
      "source": [
        "X = np.array(df[['X1','X2']])\n",
        "Y = np.array(df[['Y']])"
      ],
      "execution_count": 17,
      "outputs": []
    },
    {
      "cell_type": "markdown",
      "metadata": {
        "id": "YrEqEjBzSvxt"
      },
      "source": [
        "**Mostrar valores de entrada**"
      ]
    },
    {
      "cell_type": "code",
      "metadata": {
        "colab": {
          "base_uri": "https://localhost:8080/"
        },
        "id": "UNsfj4AFFZty",
        "outputId": "30d68c03-e5dc-433f-8591-01169e30388a"
      },
      "source": [
        "X"
      ],
      "execution_count": 18,
      "outputs": [
        {
          "output_type": "execute_result",
          "data": {
            "text/plain": [
              "array([[0, 0],\n",
              "       [0, 1],\n",
              "       [1, 0],\n",
              "       [1, 1]])"
            ]
          },
          "metadata": {
            "tags": []
          },
          "execution_count": 18
        }
      ]
    },
    {
      "cell_type": "markdown",
      "metadata": {
        "id": "5te8DTRNSy5t"
      },
      "source": [
        "**Mostrar valores de salida**"
      ]
    },
    {
      "cell_type": "code",
      "metadata": {
        "colab": {
          "base_uri": "https://localhost:8080/"
        },
        "id": "8TlGk5OyFa8_",
        "outputId": "02675484-e6b6-40b1-f8ac-38df62bf98b3"
      },
      "source": [
        "Y"
      ],
      "execution_count": 19,
      "outputs": [
        {
          "output_type": "execute_result",
          "data": {
            "text/plain": [
              "array([[0],\n",
              "       [1],\n",
              "       [1],\n",
              "       [0]])"
            ]
          },
          "metadata": {
            "tags": []
          },
          "execution_count": 19
        }
      ]
    },
    {
      "cell_type": "markdown",
      "metadata": {
        "id": "jzigTOf1FpF7"
      },
      "source": [
        "**Funcion Sigmoide**\n",
        "*     Función de activación ideal para realizar una clasifiación binaria\n",
        "\n",
        "$$\\frac{1}{1+e^{-x}}$$"
      ]
    },
    {
      "cell_type": "code",
      "metadata": {
        "id": "H41ixbDPFeGi"
      },
      "source": [
        "def sigmoid(z):\n",
        "    return 1/(1 + np.exp(-z))"
      ],
      "execution_count": 20,
      "outputs": []
    },
    {
      "cell_type": "markdown",
      "metadata": {
        "id": "eQvwxiiXYjmf"
      },
      "source": [
        "**Función de inicialización donde se especifica el numero de nodos en cada una de las capas y se generan las matrices de los pesos y el bias para la capa oculta y la capa de salida**\n",
        "*      Nodos en capa de entrada: 2\n",
        "*      Nodos en capa oculta: 2\n",
        "*      Nodos en capa de salida: 1\n",
        "\n",
        "![picture](https://drive.google.com/uc?export=view&id=1k6Q9nZa1RxnyFQ6_6-a-XVxq0hNptGkc)"
      ]
    },
    {
      "cell_type": "code",
      "metadata": {
        "id": "5ZwAtMOZg6ch"
      },
      "source": [
        "def init(n_input, n_hidden, n_output):\n",
        "    pesos_ih = np.random.random((n_hidden, n_input))    #pesos aleatorios con valores entre 0 y 1\n",
        "    bias_h = np.zeros((n_hidden, 1))                    #bias inicial compuesto por un array de ceros\n",
        "    \n",
        "    pesos_ho = np.random.random((n_output, n_hidden))\n",
        "    bias_o = np.zeros((n_output, 1))\n",
        "    \n",
        "    p = {\"W1\" : pesos_ih, \"b1\": bias_h,\n",
        "         \"W2\" : pesos_ho, \"b2\": bias_o}\n",
        "\n",
        "    return p"
      ],
      "execution_count": 22,
      "outputs": []
    },
    {
      "cell_type": "markdown",
      "metadata": {
        "id": "E4w1IYflZb7t"
      },
      "source": [
        "**Feedforward**\n",
        "*      Función para realizar propagación hacia adelante"
      ]
    },
    {
      "cell_type": "code",
      "metadata": {
        "id": "whRxVZC0iJ74"
      },
      "source": [
        "def feedforward(X, Y, p):\n",
        "    W1 = p[\"W1\"]\n",
        "    W2 = p[\"W2\"]\n",
        "    b1 = p[\"b1\"]\n",
        "    b2 = p[\"b2\"]\n",
        "\n",
        "    Z1 = np.dot(W1, X) + b1\n",
        "    A1 = sigmoid(Z1)\n",
        "\n",
        "    Z2 = np.dot(W2, A1) + b2\n",
        "    A2 = sigmoid(Z2)\n",
        "\n",
        "    cache = (Z1, A1, W1, b1, Z2, A2, W2, b2)\n",
        "\n",
        "    return cache, A2"
      ],
      "execution_count": 23,
      "outputs": []
    },
    {
      "cell_type": "markdown",
      "metadata": {
        "id": "og4uQ315aF-Z"
      },
      "source": [
        "**Backpropagation**\n",
        "*     Función para ajustar los valores de los pesos y el bias"
      ]
    },
    {
      "cell_type": "code",
      "metadata": {
        "id": "rvUC2DnekkBj"
      },
      "source": [
        "def backpropagation(X, Y, cache):\n",
        "    m = X.shape[1] #Obtener número de filas en X\n",
        "    (Z1, A1, W1, b1, Z2, A2, W2, b2) = cache\n",
        "    \n",
        "    err = A2 - Y   #Calcular tasa de error\n",
        "    dW2 = np.dot(err, A1.T) / m  #hallar nuevos valores para los pesos en la capa de salida\n",
        "    db2 = np.sum(err, axis = 1, keepdims=True)  #hallar nuevo valor para el bias en la capa de salida\n",
        "    \n",
        "    dA1 = np.dot(W2.T, err) #Multiplicar los pesos de la capa de salida por la tasa de error para los nuevos valores de entrada en la capa oculta\n",
        "\n",
        "    fp_sigmoid = A1 * (1- A1)  #Emplear la derivada de la función sigmoide sobre los valores de entrada en la capa oculta\n",
        "    dZ1 = np.multiply(dA1, fp_sigmoid)   #Multiplicar las matrices de los valores de entrada en la capa oculta\n",
        "\n",
        "    dW1 = np.dot(dZ1, X.T) / m #hallar nuevos valores para los pesos en la capa oculta\n",
        "    db1 = np.sum(dZ1, axis=1, keepdims=True) / m #hallar nuevo valor para el bias en la capa oculta\n",
        "    \n",
        "    dg = {\"dZ2\": err, \"dW2\": dW2, \"db2\": db2,\n",
        "                 \"dZ1\": dZ1, \"dW1\": dW1, \"db1\": db1}\n",
        "    return dg"
      ],
      "execution_count": 24,
      "outputs": []
    },
    {
      "cell_type": "markdown",
      "metadata": {
        "id": "WCwU630da3L8"
      },
      "source": [
        "**Actualizar los nuevos valores de los pesos y el bias**\n",
        "\n",
        "$$W = W - r * p$$\n",
        "\n",
        "*    Donde:\n",
        "  \n",
        "$W = Peso$\n",
        "\n",
        "$r = tasa - de-aprendizaje$\n",
        "\n",
        "$ p = pendiente$"
      ]
    },
    {
      "cell_type": "code",
      "metadata": {
        "id": "3PGhNZQglOXf"
      },
      "source": [
        "def actualizar(p, g, r_aprendizaje):\n",
        "    p[\"W1\"] = p[\"W1\"] - r_aprendizaje * g[\"dW1\"]\n",
        "    p[\"W2\"] = p[\"W2\"] - r_aprendizaje * g[\"dW2\"]\n",
        "    p[\"b1\"] = p[\"b1\"] - r_aprendizaje * g[\"db1\"]\n",
        "    p[\"b2\"] = p[\"b2\"] - r_aprendizaje * g[\"db2\"]\n",
        "    return p"
      ],
      "execution_count": 25,
      "outputs": []
    },
    {
      "cell_type": "markdown",
      "metadata": {
        "id": "m5pk_BfUc78n"
      },
      "source": [
        "**Realizar el entrenamiento de la red neuronal con 100000 epocas**"
      ]
    },
    {
      "cell_type": "code",
      "metadata": {
        "id": "36gE6K99lV3P"
      },
      "source": [
        "X = X.T\n",
        "Y = Y.T\n",
        "\n",
        "RN = init(2, 2, 1)\n",
        "ratio_aprendizaje = 0.01\n",
        "\n",
        "for i in range(100000):\n",
        "    cache, A2 = feedforward(X, Y, RN)\n",
        "    grads = backpropagation(X, Y, cache)\n",
        "    RN = actualizar(RN, grads, ratio_aprendizaje)"
      ],
      "execution_count": 26,
      "outputs": []
    },
    {
      "cell_type": "markdown",
      "metadata": {
        "id": "FlBz1iOamJqV"
      },
      "source": [
        "**Predecir resultados**"
      ]
    },
    {
      "cell_type": "code",
      "metadata": {
        "id": "WHvTvhlnu40R",
        "colab": {
          "base_uri": "https://localhost:8080/"
        },
        "outputId": "af6702a4-8205-4b15-f4de-7a02cf3b85f2"
      },
      "source": [
        "_, A2 = feedforward(X, Y, RN)\n",
        "pred = (A2 > 0.5) * 1.0     #Redondear valores mayores a 0.5 en 1\n",
        "print(A2.T)\n",
        "print(\"\")\n",
        "print(pred.T)"
      ],
      "execution_count": 39,
      "outputs": [
        {
          "output_type": "stream",
          "text": [
            "[[0.0148915 ]\n",
            " [0.98484113]\n",
            " [0.98490824]\n",
            " [0.01680892]]\n",
            "\n",
            "[[0.]\n",
            " [1.]\n",
            " [1.]\n",
            " [0.]]\n"
          ],
          "name": "stdout"
        }
      ]
    }
  ]
}